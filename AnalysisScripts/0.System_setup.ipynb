{
 "cells": [
  {
   "cell_type": "markdown",
   "metadata": {},
   "source": [
    "## 0. System setup figures"
   ]
  },
  {
   "cell_type": "markdown",
   "metadata": {},
   "source": [
    "Use a tcl script to open VMD, get the system on the side, with color by lipids.\n"
   ]
  },
  {
   "cell_type": "code",
   "execution_count": 39,
   "metadata": {},
   "outputs": [],
   "source": [
    "#Variables\n",
    "import os\n",
    "trpvs = range(1,7)"
   ]
  },
  {
   "cell_type": "code",
   "execution_count": 40,
   "metadata": {},
   "outputs": [
    {
     "name": "stderr",
     "output_type": "stream",
     "text": [
      "rlwrap: Command not found.\n"
     ]
    },
    {
     "name": "stdout",
     "output_type": "stream",
     "text": [
      "Info) VMD for LINUXAMD64, version 1.9.4a55 (October 19, 2021)\n",
      "Info) http://www.ks.uiuc.edu/Research/vmd/                         \n",
      "Info) Email questions and bug reports to vmd@ks.uiuc.edu           \n",
      "Info) Please include this reference in published work using VMD:   \n",
      "Info)    Humphrey, W., Dalke, A. and Schulten, K., `VMD - Visual   \n",
      "Info)    Molecular Dynamics', J. Molec. Graphics 1996, 14.1, 33-38.\n",
      "Info) -------------------------------------------------------------\n",
      "Info) Multithreading available, 64 CPUs, ISA dispatch enabled.\n",
      "Info)   CPU features: SSE2 SSE4.1 AVX AVX2 FMA F16 HT \n",
      "Info) Free system memory: 55GB (87%)\n",
      "Info) Creating CUDA device pool and initializing hardware...\n",
      "Info) Detected 2 available CUDA accelerators:\n",
      "Info) [0-1] NVIDIA GeForce RTX 3080 Ti 80 SM_8.6 1.7 GHz, 12GB RAM SP32 KT AE2 ZC\n",
      "Info) Detected 2 available TachyonL/OptiX ray tracing accelerators\n",
      "Info)   Compiling  OptiX shaders on 2 target GPUs...\n",
      "Info) Dynamically loaded 3 plugins in directory:\n",
      "Info) /usr/local/lib/vmd/plugins/LINUXAMD64/molfile\n",
      "expected integer but got \"resize\"\n",
      "Info) Using plugin gro for structure file /home/apmlab/Projects/Mario/TRPVs/Simulations/TRPV1/replica_1/CG_TRPV1.gro\n",
      "Info) Using plugin gro for coordinates from file /home/apmlab/Projects/Mario/TRPVs/Simulations/TRPV1/replica_1/CG_TRPV1.gro\n",
      "Info) Determining bond structure from distance search ...\n",
      "Info) Analyzing structure ...\n",
      "Info)    Atoms: 182741\n",
      "Info)    Bonds: 3044\n",
      "Info)    Angles: 0  Dihedrals: 0  Impropers: 0  Cross-terms: 0\n",
      "Info)    Bondtypes: 0  Angletypes: 0  Dihedraltypes: 0  Impropertypes: 0\n",
      "Info)    Residues: 179700\n",
      "Info)    Waters: 0\n",
      "Info)    Segments: 1\n",
      "Info)    Fragments: 179697   Protein: 0   Nucleic: 0\n",
      "Info) Finished with coordinate file /home/apmlab/Projects/Mario/TRPVs/Simulations/TRPV1/replica_1/CG_TRPV1.gro.\n",
      "0\n",
      "CHOL POPC PAPC POPE DIPE PAP1 PAP6 PAPS POPA DPSM\n",
      "ERROR) syntax error\n",
      "Info) Rendering current scene to '/home/apmlab/Projects/Mario/TRPVs/Simulations/TRPV1/TRPV1_setup.tga' ...\n",
      "Info) Ambient occlusion rendering enabled.\n",
      "Info) Tachyon: preprocessing time 0.407220 sec, render time 58.708351 sec.\n",
      "Total Tachyon rendering time: 59.5 sec\n",
      "Info) Rendering complete.\n",
      "Info) VMD for LINUXAMD64, version 1.9.4a55 (October 19, 2021)\n",
      "Info) Exiting normally.\n"
     ]
    },
    {
     "name": "stderr",
     "output_type": "stream",
     "text": [
      "rlwrap: Command not found.\n"
     ]
    },
    {
     "name": "stdout",
     "output_type": "stream",
     "text": [
      "Info) VMD for LINUXAMD64, version 1.9.4a55 (October 19, 2021)\n",
      "Info) http://www.ks.uiuc.edu/Research/vmd/                         \n",
      "Info) Email questions and bug reports to vmd@ks.uiuc.edu           \n",
      "Info) Please include this reference in published work using VMD:   \n",
      "Info)    Humphrey, W., Dalke, A. and Schulten, K., `VMD - Visual   \n",
      "Info)    Molecular Dynamics', J. Molec. Graphics 1996, 14.1, 33-38.\n",
      "Info) -------------------------------------------------------------\n",
      "Info) Multithreading available, 64 CPUs, ISA dispatch enabled.\n",
      "Info)   CPU features: SSE2 SSE4.1 AVX AVX2 FMA F16 HT \n",
      "Info) Free system memory: 55GB (87%)\n",
      "Info) Creating CUDA device pool and initializing hardware...\n",
      "Info) Detected 2 available CUDA accelerators:\n",
      "Info) [0-1] NVIDIA GeForce RTX 3080 Ti 80 SM_8.6 1.7 GHz, 12GB RAM SP32 KT AE2 ZC\n",
      "Info) Detected 2 available TachyonL/OptiX ray tracing accelerators\n",
      "Info)   Compiling  OptiX shaders on 2 target GPUs...\n",
      "Info) Dynamically loaded 3 plugins in directory:\n",
      "Info) /usr/local/lib/vmd/plugins/LINUXAMD64/molfile\n",
      "expected integer but got \"resize\"\n",
      "Info) Using plugin gro for structure file /home/apmlab/Projects/Mario/TRPVs/Simulations/TRPV2/replica_1/CG_TRPV2.gro\n",
      "Info) Using plugin gro for coordinates from file /home/apmlab/Projects/Mario/TRPVs/Simulations/TRPV2/replica_1/CG_TRPV2.gro\n",
      "Info) Determining bond structure from distance search ...\n",
      "Info) Analyzing structure ...\n",
      "Info)    Atoms: 182716\n",
      "Info)    Bonds: 3269\n",
      "Info)    Angles: 0  Dihedrals: 0  Impropers: 0  Cross-terms: 0\n",
      "Info)    Bondtypes: 0  Angletypes: 0  Dihedraltypes: 0  Impropertypes: 0\n",
      "Info)    Residues: 179456\n",
      "Info)    Waters: 0\n",
      "Info)    Segments: 1\n",
      "Info)    Fragments: 179449   Protein: 0   Nucleic: 0\n",
      "Info) Finished with coordinate file /home/apmlab/Projects/Mario/TRPVs/Simulations/TRPV2/replica_1/CG_TRPV2.gro.\n",
      "0\n",
      "CHOL POPC PAPC POPE DIPE PAP1 PAP6 PAPS POPA DPSM\n",
      "ERROR) syntax error\n",
      "Info) Rendering current scene to '/home/apmlab/Projects/Mario/TRPVs/Simulations/TRPV2/TRPV2_setup.tga' ...\n",
      "Info) Ambient occlusion rendering enabled.\n",
      "Info) Tachyon: preprocessing time 0.445402 sec, render time 64.565431 sec.\n",
      "Total Tachyon rendering time: 65.3 sec\n",
      "Info) Rendering complete.\n",
      "Info) VMD for LINUXAMD64, version 1.9.4a55 (October 19, 2021)\n",
      "Info) Exiting normally.\n"
     ]
    },
    {
     "name": "stderr",
     "output_type": "stream",
     "text": [
      "rlwrap: Command not found.\n"
     ]
    },
    {
     "name": "stdout",
     "output_type": "stream",
     "text": [
      "Info) VMD for LINUXAMD64, version 1.9.4a55 (October 19, 2021)\n",
      "Info) http://www.ks.uiuc.edu/Research/vmd/                         \n",
      "Info) Email questions and bug reports to vmd@ks.uiuc.edu           \n",
      "Info) Please include this reference in published work using VMD:   \n",
      "Info)    Humphrey, W., Dalke, A. and Schulten, K., `VMD - Visual   \n",
      "Info)    Molecular Dynamics', J. Molec. Graphics 1996, 14.1, 33-38.\n",
      "Info) -------------------------------------------------------------\n",
      "Info) Multithreading available, 64 CPUs, ISA dispatch enabled.\n",
      "Info)   CPU features: SSE2 SSE4.1 AVX AVX2 FMA F16 HT \n",
      "Info) Free system memory: 55GB (87%)\n",
      "Info) Creating CUDA device pool and initializing hardware...\n",
      "Info) Detected 2 available CUDA accelerators:\n",
      "Info) [0-1] NVIDIA GeForce RTX 3080 Ti 80 SM_8.6 1.7 GHz, 12GB RAM SP32 KT AE2 ZC\n",
      "Info) Detected 2 available TachyonL/OptiX ray tracing accelerators\n",
      "Info)   Compiling  OptiX shaders on 2 target GPUs...\n",
      "Info) Dynamically loaded 3 plugins in directory:\n",
      "Info) /usr/local/lib/vmd/plugins/LINUXAMD64/molfile\n",
      "expected integer but got \"resize\"\n",
      "Info) Using plugin gro for structure file /home/apmlab/Projects/Mario/TRPVs/Simulations/TRPV3/replica_1/CG_TRPV3.gro\n",
      "Info) Using plugin gro for coordinates from file /home/apmlab/Projects/Mario/TRPVs/Simulations/TRPV3/replica_1/CG_TRPV3.gro\n",
      "Info) Determining bond structure from distance search ...\n",
      "Info) Analyzing structure ...\n",
      "Info)    Atoms: 182482\n",
      "Info)    Bonds: 3018\n",
      "Info)    Angles: 0  Dihedrals: 0  Impropers: 0  Cross-terms: 0\n",
      "Info)    Bondtypes: 0  Angletypes: 0  Dihedraltypes: 0  Impropertypes: 0\n",
      "Info)    Residues: 179483\n",
      "Info)    Waters: 0\n",
      "Info)    Segments: 1\n",
      "Info)    Fragments: 179466   Protein: 0   Nucleic: 0\n",
      "Info) Finished with coordinate file /home/apmlab/Projects/Mario/TRPVs/Simulations/TRPV3/replica_1/CG_TRPV3.gro.\n",
      "0\n",
      "CHOL POPC PAPC POPE DIPE PAP1 PAP6 PAPS POPA DPSM\n",
      "ERROR) syntax error\n",
      "Info) Rendering current scene to '/home/apmlab/Projects/Mario/TRPVs/Simulations/TRPV3/TRPV3_setup.tga' ...\n",
      "Info) Ambient occlusion rendering enabled.\n",
      "Info) Tachyon: preprocessing time 0.402685 sec, render time 63.717026 sec.\n",
      "Total Tachyon rendering time: 64.4 sec\n",
      "Info) Rendering complete.\n",
      "Info) VMD for LINUXAMD64, version 1.9.4a55 (October 19, 2021)\n",
      "Info) Exiting normally.\n"
     ]
    },
    {
     "name": "stderr",
     "output_type": "stream",
     "text": [
      "rlwrap: Command not found.\n"
     ]
    },
    {
     "name": "stdout",
     "output_type": "stream",
     "text": [
      "Info) VMD for LINUXAMD64, version 1.9.4a55 (October 19, 2021)\n",
      "Info) http://www.ks.uiuc.edu/Research/vmd/                         \n",
      "Info) Email questions and bug reports to vmd@ks.uiuc.edu           \n",
      "Info) Please include this reference in published work using VMD:   \n",
      "Info)    Humphrey, W., Dalke, A. and Schulten, K., `VMD - Visual   \n",
      "Info)    Molecular Dynamics', J. Molec. Graphics 1996, 14.1, 33-38.\n",
      "Info) -------------------------------------------------------------\n",
      "Info) Multithreading available, 64 CPUs, ISA dispatch enabled.\n",
      "Info)   CPU features: SSE2 SSE4.1 AVX AVX2 FMA F16 HT \n",
      "Info) Free system memory: 55GB (87%)\n",
      "Info) Creating CUDA device pool and initializing hardware...\n",
      "Info) Detected 2 available CUDA accelerators:\n",
      "Info) [0-1] NVIDIA GeForce RTX 3080 Ti 80 SM_8.6 1.7 GHz, 12GB RAM SP32 KT AE2 ZC\n",
      "Info) Detected 2 available TachyonL/OptiX ray tracing accelerators\n",
      "Info)   Compiling  OptiX shaders on 2 target GPUs...\n",
      "Info) Dynamically loaded 3 plugins in directory:\n",
      "Info) /usr/local/lib/vmd/plugins/LINUXAMD64/molfile\n",
      "expected integer but got \"resize\"\n",
      "Info) Using plugin gro for structure file /home/apmlab/Projects/Mario/TRPVs/Simulations/TRPV4/replica_1/CG_TRPV4.gro\n",
      "Info) Using plugin gro for coordinates from file /home/apmlab/Projects/Mario/TRPVs/Simulations/TRPV4/replica_1/CG_TRPV4.gro\n",
      "Info) Determining bond structure from distance search ...\n",
      "Info) Analyzing structure ...\n",
      "Info)    Atoms: 182794\n",
      "Info)    Bonds: 3145\n",
      "Info)    Angles: 0  Dihedrals: 0  Impropers: 0  Cross-terms: 0\n",
      "Info)    Bondtypes: 0  Angletypes: 0  Dihedraltypes: 0  Impropertypes: 0\n",
      "Info)    Residues: 179654\n",
      "Info)    Waters: 0\n",
      "Info)    Segments: 1\n",
      "Info)    Fragments: 179652   Protein: 0   Nucleic: 0\n",
      "Info) Finished with coordinate file /home/apmlab/Projects/Mario/TRPVs/Simulations/TRPV4/replica_1/CG_TRPV4.gro.\n",
      "0\n",
      "CHOL POPC PAPC POPE DIPE PAP1 PAP6 PAPS POPA DPSM\n",
      "ERROR) syntax error\n",
      "Info) Rendering current scene to '/home/apmlab/Projects/Mario/TRPVs/Simulations/TRPV4/TRPV4_setup.tga' ...\n",
      "Info) Ambient occlusion rendering enabled.\n",
      "Info) Tachyon: preprocessing time 0.409176 sec, render time 64.253932 sec.\n",
      "Total Tachyon rendering time: 65.0 sec\n",
      "Info) Rendering complete.\n",
      "Info) VMD for LINUXAMD64, version 1.9.4a55 (October 19, 2021)\n",
      "Info) Exiting normally.\n"
     ]
    },
    {
     "name": "stderr",
     "output_type": "stream",
     "text": [
      "rlwrap: Command not found.\n"
     ]
    },
    {
     "name": "stdout",
     "output_type": "stream",
     "text": [
      "Info) VMD for LINUXAMD64, version 1.9.4a55 (October 19, 2021)\n",
      "Info) http://www.ks.uiuc.edu/Research/vmd/                         \n",
      "Info) Email questions and bug reports to vmd@ks.uiuc.edu           \n",
      "Info) Please include this reference in published work using VMD:   \n",
      "Info)    Humphrey, W., Dalke, A. and Schulten, K., `VMD - Visual   \n",
      "Info)    Molecular Dynamics', J. Molec. Graphics 1996, 14.1, 33-38.\n",
      "Info) -------------------------------------------------------------\n",
      "Info) Multithreading available, 64 CPUs, ISA dispatch enabled.\n",
      "Info)   CPU features: SSE2 SSE4.1 AVX AVX2 FMA F16 HT \n",
      "Info) Free system memory: 55GB (87%)\n",
      "Info) Creating CUDA device pool and initializing hardware...\n",
      "Info) Detected 2 available CUDA accelerators:\n",
      "Info) [0-1] NVIDIA GeForce RTX 3080 Ti 80 SM_8.6 1.7 GHz, 12GB RAM SP32 KT AE2 ZC\n",
      "Info) Detected 2 available TachyonL/OptiX ray tracing accelerators\n",
      "Info)   Compiling  OptiX shaders on 2 target GPUs...\n",
      "Info) Dynamically loaded 3 plugins in directory:\n",
      "Info) /usr/local/lib/vmd/plugins/LINUXAMD64/molfile\n",
      "expected integer but got \"resize\"\n",
      "Info) Using plugin gro for structure file /home/apmlab/Projects/Mario/TRPVs/Simulations/TRPV5/replica_1/CG_TRPV5.gro\n",
      "Info) Using plugin gro for coordinates from file /home/apmlab/Projects/Mario/TRPVs/Simulations/TRPV5/replica_1/CG_TRPV5.gro\n",
      "Info) Determining bond structure from distance search ...\n",
      "Info) Analyzing structure ...\n",
      "Info)    Atoms: 182143\n",
      "Info)    Bonds: 3066\n",
      "Info)    Angles: 0  Dihedrals: 0  Impropers: 0  Cross-terms: 0\n",
      "Info)    Bondtypes: 0  Angletypes: 0  Dihedraltypes: 0  Impropertypes: 0\n",
      "Info)    Residues: 179079\n",
      "Info)    Waters: 0\n",
      "Info)    Segments: 1\n",
      "Info)    Fragments: 179078   Protein: 0   Nucleic: 0\n",
      "Info) Finished with coordinate file /home/apmlab/Projects/Mario/TRPVs/Simulations/TRPV5/replica_1/CG_TRPV5.gro.\n",
      "0\n",
      "CHOL POPC PAPC POPE DIPE PAP1 PAP6 PAPS POPA DPSM\n",
      "ERROR) syntax error\n",
      "Info) Rendering current scene to '/home/apmlab/Projects/Mario/TRPVs/Simulations/TRPV5/TRPV5_setup.tga' ...\n",
      "Info) Ambient occlusion rendering enabled.\n",
      "Info) Tachyon: preprocessing time 0.405856 sec, render time 56.489683 sec.\n",
      "Total Tachyon rendering time: 57.2 sec\n",
      "Info) Rendering complete.\n",
      "Info) VMD for LINUXAMD64, version 1.9.4a55 (October 19, 2021)\n",
      "Info) Exiting normally.\n"
     ]
    },
    {
     "name": "stderr",
     "output_type": "stream",
     "text": [
      "rlwrap: Command not found.\n"
     ]
    },
    {
     "name": "stdout",
     "output_type": "stream",
     "text": [
      "Info) VMD for LINUXAMD64, version 1.9.4a55 (October 19, 2021)\n",
      "Info) http://www.ks.uiuc.edu/Research/vmd/                         \n",
      "Info) Email questions and bug reports to vmd@ks.uiuc.edu           \n",
      "Info) Please include this reference in published work using VMD:   \n",
      "Info)    Humphrey, W., Dalke, A. and Schulten, K., `VMD - Visual   \n",
      "Info)    Molecular Dynamics', J. Molec. Graphics 1996, 14.1, 33-38.\n",
      "Info) -------------------------------------------------------------\n",
      "Info) Multithreading available, 64 CPUs, ISA dispatch enabled.\n",
      "Info)   CPU features: SSE2 SSE4.1 AVX AVX2 FMA F16 HT \n",
      "Info) Free system memory: 55GB (87%)\n",
      "Info) Creating CUDA device pool and initializing hardware...\n",
      "Info) Detected 2 available CUDA accelerators:\n",
      "Info) [0-1] NVIDIA GeForce RTX 3080 Ti 80 SM_8.6 1.7 GHz, 12GB RAM SP32 KT AE2 ZC\n",
      "Info) Detected 2 available TachyonL/OptiX ray tracing accelerators\n",
      "Info)   Compiling  OptiX shaders on 2 target GPUs...\n",
      "Info) Dynamically loaded 3 plugins in directory:\n",
      "Info) /usr/local/lib/vmd/plugins/LINUXAMD64/molfile\n",
      "expected integer but got \"resize\"\n",
      "Info) Using plugin gro for structure file /home/apmlab/Projects/Mario/TRPVs/Simulations/TRPV6/replica_1/CG_TRPV6.gro\n",
      "Info) Using plugin gro for coordinates from file /home/apmlab/Projects/Mario/TRPVs/Simulations/TRPV6/replica_1/CG_TRPV6.gro\n",
      "Info) Determining bond structure from distance search ...\n",
      "Info) Analyzing structure ...\n",
      "Info)    Atoms: 183521\n",
      "Info)    Bonds: 3047\n",
      "Info)    Angles: 0  Dihedrals: 0  Impropers: 0  Cross-terms: 0\n",
      "Info)    Bondtypes: 0  Angletypes: 0  Dihedraltypes: 0  Impropertypes: 0\n",
      "Info)    Residues: 180480\n",
      "Info)    Waters: 0\n",
      "Info)    Segments: 1\n",
      "Info)    Fragments: 180474   Protein: 0   Nucleic: 0\n",
      "Info) Finished with coordinate file /home/apmlab/Projects/Mario/TRPVs/Simulations/TRPV6/replica_1/CG_TRPV6.gro.\n",
      "0\n",
      "CHOL POPC PAPC POPE DIPE PAP1 PAP6 PAPS POPA DPSM\n",
      "ERROR) syntax error\n",
      "Info) Rendering current scene to '/home/apmlab/Projects/Mario/TRPVs/Simulations/TRPV6/TRPV6_setup.tga' ...\n",
      "Info) Ambient occlusion rendering enabled.\n",
      "Info) Tachyon: preprocessing time 0.391874 sec, render time 58.072098 sec.\n",
      "Total Tachyon rendering time: 58.7 sec\n",
      "Info) Rendering complete.\n",
      "Info) VMD for LINUXAMD64, version 1.9.4a55 (October 19, 2021)\n",
      "Info) Exiting normally.\n"
     ]
    }
   ],
   "source": [
    "for trpv in trpvs:\n",
    "    folder = f\"/home/apmlab/Projects/Mario/TRPVs/Simulations/TRPV{trpv}\"\n",
    "    with open(\"0.System_setup.tcl\") as f:\n",
    "        command = ' '.join(f.readlines())\n",
    "        command = command.replace(\"TRPV_INPUT_PATH\", f\"{folder}/replica_1/CG_TRPV{trpv}.gro\")\n",
    "        command = command.replace(\"TRPV_OUTPUT_PATH\", f\"{folder}/TRPV{trpv}_setup.tga\")\n",
    "\n",
    "        with open(\"temp_file.tcl\", \"w\") as tempfile:\n",
    "            tempfile.write(command)\n",
    "        \n",
    "    os.system(f\"vmd -e temp_file.tcl\")\n",
    "    os.system(\"rm temp_file.tcl\")"
   ]
  }
 ],
 "metadata": {
  "kernelspec": {
   "display_name": "trpv_analysis",
   "language": "python",
   "name": "python3"
  },
  "language_info": {
   "codemirror_mode": {
    "name": "ipython",
    "version": 3
   },
   "file_extension": ".py",
   "mimetype": "text/x-python",
   "name": "python",
   "nbconvert_exporter": "python",
   "pygments_lexer": "ipython3",
   "version": "3.8.10"
  }
 },
 "nbformat": 4,
 "nbformat_minor": 2
}
