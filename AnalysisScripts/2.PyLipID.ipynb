{
 "cells": [
  {
   "cell_type": "markdown",
   "metadata": {},
   "source": [
    "## 2. PyLipID Analysis"
   ]
  },
  {
   "cell_type": "markdown",
   "metadata": {},
   "source": [
    "Perform the PyLipID analysis of the simulations, extracting:\n",
    "- Occupancy\n",
    "- Lipid count\n",
    "- koff / Residence Time\n",
    "- Bound poses"
   ]
  },
  {
   "cell_type": "code",
   "execution_count": 1,
   "metadata": {},
   "outputs": [],
   "source": [
    "#Load required libraries\n",
    "import MDAnalysis as mda\n",
    "import pylipid\n",
    "from pylipid.api import LipidInteraction\n",
    "from pylipid.util import check_dir\n",
    "import os"
   ]
  },
  {
   "cell_type": "code",
   "execution_count": 2,
   "metadata": {},
   "outputs": [],
   "source": [
    "#Assign variables\n",
    "trpv = 1\n",
    "resi_offset = 115 #Residue offset between the original .pdb and the .gro file\n",
    "stride = 10\n",
    "\n",
    "folder = f\"../Simulations/TRPV{trpv}\"\n",
    "\n",
    "trajfile_list = [f\"{folder}/replica_{r}/Analysis/analysis_centered_step7_production.xtc\" for r in [1,2,3]]\n",
    "topfile_list = [f\"{folder}/replica_{r}/Analysis/analysis_step7_coord.gro\" for r in [1,2,3]]\n",
    "                                                                                        \n",
    "\n",
    "cutoffs = [0.475, 0.7]\n",
    "lipid = \"PAP6\"\n",
    "lipid_atoms = {                \n",
    "                \"POPA\":[\"PO4\"],\n",
    "                \"PAP1\":[\"PO4\", \"C1\", \"C2\", \"C3\", \"P1\"],\n",
    "                \"PAP6\":[\"PO4\", \"C1\", \"C2\", \"C3\", \"P4\", \"P5\"],\n",
    "                \"CHOL\":None,\n",
    "                \"POPC\":[\"PO4\", \"NC3\"],\n",
    "                \"PAPC\":[\"PO4\", \"NC3\"],\n",
    "                \"POPE\":[\"PO4\", \"NH3\"],\n",
    "                \"DIPE\":[\"PO4\", \"NH3\"],\n",
    "                \"DPSM\":[\"PO4\", \"NC3\"],\n",
    "                \"PAPS\":[\"PO4\", \"CNO\"]\n",
    "                }\n",
    "\n",
    "nprot = 1\n",
    "timeunit = \"us\"\n",
    "fig_format = \"svg\"\n",
    "\n",
    "save_dir = f\"{folder}/PyLipid\"\n",
    "\n",
    "num_cpus = 32\n",
    "\n",
    "binding_site_size = 4\n",
    "save_pose_format = \"gro\"\n",
    "n_top_poses = 3\n",
    "n_clusters = \"auto\"\n",
    "\n",
    "save_pose_traj = True\n",
    "save_pose_traj_format = \"xtc\"\n",
    "\n",
    "\n",
    "pdb_file_to_map = None \n"
   ]
  },
  {
   "cell_type": "code",
   "execution_count": 3,
   "metadata": {},
   "outputs": [
    {
     "name": "stdout",
     "output_type": "stream",
     "text": [
      "Could not create folder. Folder 'PyLipid' already exists in ../Simulations/TRPV1\n"
     ]
    }
   ],
   "source": [
    "#Create PyLipid directory\n",
    "try:\n",
    "    os.mkdir(f\"{folder}/PyLipid\")\n",
    "    print(f\"Folder 'PyLipid' created in {folder}\")\n",
    "except FileExistsError:\n",
    "    print(f\"Could not create folder. Folder 'PyLipid' already exists in {folder}\")"
   ]
  },
  {
   "cell_type": "code",
   "execution_count": 4,
   "metadata": {},
   "outputs": [
    {
     "name": "stdout",
     "output_type": "stream",
     "text": [
      "Analyzing trajectories for CHOL\n"
     ]
    },
    {
     "name": "stderr",
     "output_type": "stream",
     "text": [
      "COLLECT INTERACTIONS FROM TRAJECTORIES:   0%|          | 0/1 [01:11<?, ?it/s]\n"
     ]
    },
    {
     "ename": "KeyboardInterrupt",
     "evalue": "",
     "output_type": "error",
     "traceback": [
      "\u001b[0;31m---------------------------------------------------------------------------\u001b[0m",
      "\u001b[0;31mKeyboardInterrupt\u001b[0m                         Traceback (most recent call last)",
      "Cell \u001b[0;32mIn[4], line 13\u001b[0m\n\u001b[1;32m      4\u001b[0m li \u001b[38;5;241m=\u001b[39m LipidInteraction(trajfile_list[\u001b[38;5;241m0\u001b[39m], topfile_list\u001b[38;5;241m=\u001b[39mtopfile_list[\u001b[38;5;241m0\u001b[39m], cutoffs\u001b[38;5;241m=\u001b[39mcutoffs, \n\u001b[1;32m      5\u001b[0m                     lipid\u001b[38;5;241m=\u001b[39mlipid, \n\u001b[1;32m      6\u001b[0m                     lipid_atoms\u001b[38;5;241m=\u001b[39matoms,\n\u001b[0;32m   (...)\u001b[0m\n\u001b[1;32m      9\u001b[0m                     nprot\u001b[38;5;241m=\u001b[39mnprot, \n\u001b[1;32m     10\u001b[0m                     save_dir\u001b[38;5;241m=\u001b[39msave_dir)\n\u001b[1;32m     12\u001b[0m \u001b[38;5;66;03m#Compute contacts\u001b[39;00m\n\u001b[0;32m---> 13\u001b[0m \u001b[43mli\u001b[49m\u001b[38;5;241;43m.\u001b[39;49m\u001b[43mcollect_residue_contacts\u001b[49m\u001b[43m(\u001b[49m\u001b[43m)\u001b[49m\n\u001b[1;32m     15\u001b[0m \u001b[38;5;66;03m#Compute residue data (Duration, Occupancy, LipidCount, koff)\u001b[39;00m\n\u001b[1;32m     16\u001b[0m li\u001b[38;5;241m.\u001b[39mcompute_residue_duration(residue_id\u001b[38;5;241m=\u001b[39m\u001b[38;5;28;01mNone\u001b[39;00m)\n",
      "File \u001b[0;32m~/Projects/Mario/TRPVs/trpv_analysis/lib/python3.8/site-packages/pylipid/api/api.py:331\u001b[0m, in \u001b[0;36mLipidInteraction.collect_residue_contacts\u001b[0;34m(self)\u001b[0m\n\u001b[1;32m    326\u001b[0m \u001b[38;5;28;01mfor\u001b[39;00m protein_idx \u001b[38;5;129;01min\u001b[39;00m np\u001b[38;5;241m.\u001b[39marange(\u001b[38;5;28mself\u001b[39m\u001b[38;5;241m.\u001b[39m_nprot, dtype\u001b[38;5;241m=\u001b[39m\u001b[38;5;28mint\u001b[39m):\n\u001b[1;32m    328\u001b[0m     \u001b[38;5;28;01mfor\u001b[39;00m residue_id, residue_atom_indices \u001b[38;5;129;01min\u001b[39;00m \u001b[38;5;28menumerate\u001b[39m(\n\u001b[1;32m    329\u001b[0m             traj_info[\u001b[38;5;124m\"\u001b[39m\u001b[38;5;124mprotein_residue_atomid_list\u001b[39m\u001b[38;5;124m\"\u001b[39m][protein_idx]):\n\u001b[1;32m    330\u001b[0m         \u001b[38;5;66;03m# calculate interaction per residue\u001b[39;00m\n\u001b[0;32m--> 331\u001b[0m         dist_matrix \u001b[38;5;241m=\u001b[39m np\u001b[38;5;241m.\u001b[39marray([np\u001b[38;5;241m.\u001b[39mmin(\n\u001b[1;32m    332\u001b[0m             md\u001b[38;5;241m.\u001b[39mcompute_distances(traj, np\u001b[38;5;241m.\u001b[39marray(\u001b[38;5;28mlist\u001b[39m(product(residue_atom_indices, lipid_atom_indices)))),\n\u001b[1;32m    333\u001b[0m             axis\u001b[38;5;241m=\u001b[39m\u001b[38;5;241m1\u001b[39m) \u001b[38;5;28;01mfor\u001b[39;00m lipid_atom_indices \u001b[38;5;129;01min\u001b[39;00m traj_info[\u001b[38;5;124m\"\u001b[39m\u001b[38;5;124mlipid_residue_atomid_list\u001b[39m\u001b[38;5;124m\"\u001b[39m]])\n\u001b[1;32m    334\u001b[0m         contact_low, frame_id_set_low, lipid_id_set_low \u001b[38;5;241m=\u001b[39m cal_contact_residues(dist_matrix, \u001b[38;5;28mself\u001b[39m\u001b[38;5;241m.\u001b[39m_cutoffs[\u001b[38;5;241m0\u001b[39m])\n\u001b[1;32m    335\u001b[0m         contact_high, _, _ \u001b[38;5;241m=\u001b[39m cal_contact_residues(dist_matrix, \u001b[38;5;28mself\u001b[39m\u001b[38;5;241m.\u001b[39m_cutoffs[\u001b[38;5;241m1\u001b[39m])\n",
      "File \u001b[0;32m~/Projects/Mario/TRPVs/trpv_analysis/lib/python3.8/site-packages/pylipid/api/api.py:332\u001b[0m, in \u001b[0;36m<listcomp>\u001b[0;34m(.0)\u001b[0m\n\u001b[1;32m    326\u001b[0m \u001b[38;5;28;01mfor\u001b[39;00m protein_idx \u001b[38;5;129;01min\u001b[39;00m np\u001b[38;5;241m.\u001b[39marange(\u001b[38;5;28mself\u001b[39m\u001b[38;5;241m.\u001b[39m_nprot, dtype\u001b[38;5;241m=\u001b[39m\u001b[38;5;28mint\u001b[39m):\n\u001b[1;32m    328\u001b[0m     \u001b[38;5;28;01mfor\u001b[39;00m residue_id, residue_atom_indices \u001b[38;5;129;01min\u001b[39;00m \u001b[38;5;28menumerate\u001b[39m(\n\u001b[1;32m    329\u001b[0m             traj_info[\u001b[38;5;124m\"\u001b[39m\u001b[38;5;124mprotein_residue_atomid_list\u001b[39m\u001b[38;5;124m\"\u001b[39m][protein_idx]):\n\u001b[1;32m    330\u001b[0m         \u001b[38;5;66;03m# calculate interaction per residue\u001b[39;00m\n\u001b[1;32m    331\u001b[0m         dist_matrix \u001b[38;5;241m=\u001b[39m np\u001b[38;5;241m.\u001b[39marray([np\u001b[38;5;241m.\u001b[39mmin(\n\u001b[0;32m--> 332\u001b[0m             \u001b[43mmd\u001b[49m\u001b[38;5;241;43m.\u001b[39;49m\u001b[43mcompute_distances\u001b[49m\u001b[43m(\u001b[49m\u001b[43mtraj\u001b[49m\u001b[43m,\u001b[49m\u001b[43m \u001b[49m\u001b[43mnp\u001b[49m\u001b[38;5;241;43m.\u001b[39;49m\u001b[43marray\u001b[49m\u001b[43m(\u001b[49m\u001b[38;5;28;43mlist\u001b[39;49m\u001b[43m(\u001b[49m\u001b[43mproduct\u001b[49m\u001b[43m(\u001b[49m\u001b[43mresidue_atom_indices\u001b[49m\u001b[43m,\u001b[49m\u001b[43m \u001b[49m\u001b[43mlipid_atom_indices\u001b[49m\u001b[43m)\u001b[49m\u001b[43m)\u001b[49m\u001b[43m)\u001b[49m\u001b[43m)\u001b[49m,\n\u001b[1;32m    333\u001b[0m             axis\u001b[38;5;241m=\u001b[39m\u001b[38;5;241m1\u001b[39m) \u001b[38;5;28;01mfor\u001b[39;00m lipid_atom_indices \u001b[38;5;129;01min\u001b[39;00m traj_info[\u001b[38;5;124m\"\u001b[39m\u001b[38;5;124mlipid_residue_atomid_list\u001b[39m\u001b[38;5;124m\"\u001b[39m]])\n\u001b[1;32m    334\u001b[0m         contact_low, frame_id_set_low, lipid_id_set_low \u001b[38;5;241m=\u001b[39m cal_contact_residues(dist_matrix, \u001b[38;5;28mself\u001b[39m\u001b[38;5;241m.\u001b[39m_cutoffs[\u001b[38;5;241m0\u001b[39m])\n\u001b[1;32m    335\u001b[0m         contact_high, _, _ \u001b[38;5;241m=\u001b[39m cal_contact_residues(dist_matrix, \u001b[38;5;28mself\u001b[39m\u001b[38;5;241m.\u001b[39m_cutoffs[\u001b[38;5;241m1\u001b[39m])\n",
      "File \u001b[0;32m~/Projects/Mario/TRPVs/trpv_analysis/lib/python3.8/site-packages/mdtraj/geometry/distance.py:152\u001b[0m, in \u001b[0;36mcompute_distances\u001b[0;34m(traj, atom_pairs, periodic, opt)\u001b[0m\n\u001b[1;32m    125\u001b[0m \u001b[38;5;28;01mdef\u001b[39;00m \u001b[38;5;21mcompute_distances\u001b[39m(traj, atom_pairs, periodic\u001b[38;5;241m=\u001b[39m\u001b[38;5;28;01mTrue\u001b[39;00m, opt\u001b[38;5;241m=\u001b[39m\u001b[38;5;28;01mTrue\u001b[39;00m):\n\u001b[1;32m    126\u001b[0m \u001b[38;5;250m    \u001b[39m\u001b[38;5;124;03m\"\"\"Compute the distances between pairs of atoms in each frame.\u001b[39;00m\n\u001b[1;32m    127\u001b[0m \n\u001b[1;32m    128\u001b[0m \u001b[38;5;124;03m    Parameters\u001b[39;00m\n\u001b[0;32m   (...)\u001b[0m\n\u001b[1;32m    146\u001b[0m \u001b[38;5;124;03m        The distance, in each frame, between each pair of atoms.\u001b[39;00m\n\u001b[1;32m    147\u001b[0m \u001b[38;5;124;03m    \"\"\"\u001b[39;00m\n\u001b[1;32m    149\u001b[0m     \u001b[38;5;28;01mreturn\u001b[39;00m compute_distances_core(\n\u001b[1;32m    150\u001b[0m         traj\u001b[38;5;241m.\u001b[39mxyz,\n\u001b[1;32m    151\u001b[0m         atom_pairs,\n\u001b[0;32m--> 152\u001b[0m         unitcell_vectors\u001b[38;5;241m=\u001b[39m\u001b[43mtraj\u001b[49m\u001b[38;5;241;43m.\u001b[39;49m\u001b[43munitcell_vectors\u001b[49m,\n\u001b[1;32m    153\u001b[0m         periodic\u001b[38;5;241m=\u001b[39mperiodic,\n\u001b[1;32m    154\u001b[0m         opt\u001b[38;5;241m=\u001b[39mopt,\n\u001b[1;32m    155\u001b[0m     )\n",
      "File \u001b[0;32m~/Projects/Mario/TRPVs/trpv_analysis/lib/python3.8/site-packages/mdtraj/core/trajectory.py:809\u001b[0m, in \u001b[0;36mTrajectory.unitcell_vectors\u001b[0;34m(self)\u001b[0m\n\u001b[1;32m    806\u001b[0m \u001b[38;5;28;01mif\u001b[39;00m \u001b[38;5;28mself\u001b[39m\u001b[38;5;241m.\u001b[39m_unitcell_lengths \u001b[38;5;129;01mis\u001b[39;00m \u001b[38;5;28;01mNone\u001b[39;00m \u001b[38;5;129;01mor\u001b[39;00m \u001b[38;5;28mself\u001b[39m\u001b[38;5;241m.\u001b[39m_unitcell_angles \u001b[38;5;129;01mis\u001b[39;00m \u001b[38;5;28;01mNone\u001b[39;00m:\n\u001b[1;32m    807\u001b[0m     \u001b[38;5;28;01mreturn\u001b[39;00m \u001b[38;5;28;01mNone\u001b[39;00m\n\u001b[0;32m--> 809\u001b[0m v1, v2, v3 \u001b[38;5;241m=\u001b[39m \u001b[43mlengths_and_angles_to_box_vectors\u001b[49m\u001b[43m(\u001b[49m\n\u001b[1;32m    810\u001b[0m \u001b[43m    \u001b[49m\u001b[38;5;28;43mself\u001b[39;49m\u001b[38;5;241;43m.\u001b[39;49m\u001b[43m_unitcell_lengths\u001b[49m\u001b[43m[\u001b[49m\u001b[43m:\u001b[49m\u001b[43m,\u001b[49m\u001b[43m \u001b[49m\u001b[38;5;241;43m0\u001b[39;49m\u001b[43m]\u001b[49m\u001b[43m,\u001b[49m\u001b[43m  \u001b[49m\u001b[38;5;66;43;03m# a\u001b[39;49;00m\n\u001b[1;32m    811\u001b[0m \u001b[43m    \u001b[49m\u001b[38;5;28;43mself\u001b[39;49m\u001b[38;5;241;43m.\u001b[39;49m\u001b[43m_unitcell_lengths\u001b[49m\u001b[43m[\u001b[49m\u001b[43m:\u001b[49m\u001b[43m,\u001b[49m\u001b[43m \u001b[49m\u001b[38;5;241;43m1\u001b[39;49m\u001b[43m]\u001b[49m\u001b[43m,\u001b[49m\u001b[43m  \u001b[49m\u001b[38;5;66;43;03m# b\u001b[39;49;00m\n\u001b[1;32m    812\u001b[0m \u001b[43m    \u001b[49m\u001b[38;5;28;43mself\u001b[39;49m\u001b[38;5;241;43m.\u001b[39;49m\u001b[43m_unitcell_lengths\u001b[49m\u001b[43m[\u001b[49m\u001b[43m:\u001b[49m\u001b[43m,\u001b[49m\u001b[43m \u001b[49m\u001b[38;5;241;43m2\u001b[39;49m\u001b[43m]\u001b[49m\u001b[43m,\u001b[49m\u001b[43m  \u001b[49m\u001b[38;5;66;43;03m# c\u001b[39;49;00m\n\u001b[1;32m    813\u001b[0m \u001b[43m    \u001b[49m\u001b[38;5;28;43mself\u001b[39;49m\u001b[38;5;241;43m.\u001b[39;49m\u001b[43m_unitcell_angles\u001b[49m\u001b[43m[\u001b[49m\u001b[43m:\u001b[49m\u001b[43m,\u001b[49m\u001b[43m \u001b[49m\u001b[38;5;241;43m0\u001b[39;49m\u001b[43m]\u001b[49m\u001b[43m,\u001b[49m\u001b[43m   \u001b[49m\u001b[38;5;66;43;03m# alpha\u001b[39;49;00m\n\u001b[1;32m    814\u001b[0m \u001b[43m    \u001b[49m\u001b[38;5;28;43mself\u001b[39;49m\u001b[38;5;241;43m.\u001b[39;49m\u001b[43m_unitcell_angles\u001b[49m\u001b[43m[\u001b[49m\u001b[43m:\u001b[49m\u001b[43m,\u001b[49m\u001b[43m \u001b[49m\u001b[38;5;241;43m1\u001b[39;49m\u001b[43m]\u001b[49m\u001b[43m,\u001b[49m\u001b[43m   \u001b[49m\u001b[38;5;66;43;03m# beta\u001b[39;49;00m\n\u001b[1;32m    815\u001b[0m \u001b[43m    \u001b[49m\u001b[38;5;28;43mself\u001b[39;49m\u001b[38;5;241;43m.\u001b[39;49m\u001b[43m_unitcell_angles\u001b[49m\u001b[43m[\u001b[49m\u001b[43m:\u001b[49m\u001b[43m,\u001b[49m\u001b[43m \u001b[49m\u001b[38;5;241;43m2\u001b[39;49m\u001b[43m]\u001b[49m\u001b[43m,\u001b[49m\u001b[43m   \u001b[49m\u001b[38;5;66;43;03m# gamma\u001b[39;49;00m\n\u001b[1;32m    816\u001b[0m \u001b[43m\u001b[49m\u001b[43m)\u001b[49m\n\u001b[1;32m    817\u001b[0m \u001b[38;5;28;01mreturn\u001b[39;00m np\u001b[38;5;241m.\u001b[39mswapaxes(np\u001b[38;5;241m.\u001b[39mdstack((v1, v2, v3)), \u001b[38;5;241m1\u001b[39m, \u001b[38;5;241m2\u001b[39m)\n",
      "File \u001b[0;32m~/Projects/Mario/TRPVs/trpv_analysis/lib/python3.8/site-packages/mdtraj/utils/unitcell.py:82\u001b[0m, in \u001b[0;36mlengths_and_angles_to_box_vectors\u001b[0;34m(a_length, b_length, c_length, alpha, beta, gamma)\u001b[0m\n\u001b[1;32m     80\u001b[0m alpha \u001b[38;5;241m=\u001b[39m alpha \u001b[38;5;241m*\u001b[39m np\u001b[38;5;241m.\u001b[39mpi \u001b[38;5;241m/\u001b[39m \u001b[38;5;241m180\u001b[39m\n\u001b[1;32m     81\u001b[0m beta \u001b[38;5;241m=\u001b[39m beta \u001b[38;5;241m*\u001b[39m np\u001b[38;5;241m.\u001b[39mpi \u001b[38;5;241m/\u001b[39m \u001b[38;5;241m180\u001b[39m\n\u001b[0;32m---> 82\u001b[0m gamma \u001b[38;5;241m=\u001b[39m \u001b[43mgamma\u001b[49m\u001b[43m \u001b[49m\u001b[38;5;241;43m*\u001b[39;49m\u001b[43m \u001b[49m\u001b[43mnp\u001b[49m\u001b[38;5;241;43m.\u001b[39;49m\u001b[43mpi\u001b[49m \u001b[38;5;241m/\u001b[39m \u001b[38;5;241m180\u001b[39m\n\u001b[1;32m     84\u001b[0m a \u001b[38;5;241m=\u001b[39m np\u001b[38;5;241m.\u001b[39marray([a_length, np\u001b[38;5;241m.\u001b[39mzeros_like(a_length), np\u001b[38;5;241m.\u001b[39mzeros_like(a_length)])\n\u001b[1;32m     85\u001b[0m b \u001b[38;5;241m=\u001b[39m np\u001b[38;5;241m.\u001b[39marray([b_length\u001b[38;5;241m*\u001b[39mnp\u001b[38;5;241m.\u001b[39mcos(gamma), b_length\u001b[38;5;241m*\u001b[39mnp\u001b[38;5;241m.\u001b[39msin(gamma), np\u001b[38;5;241m.\u001b[39mzeros_like(b_length)])\n",
      "\u001b[0;31mKeyboardInterrupt\u001b[0m: "
     ]
    }
   ],
   "source": [
    "for lipid, atoms in lipid_atoms.items():\n",
    "    print(f\"Analyzing trajectories for {lipid}\")\n",
    "    # initialize\n",
    "    li = LipidInteraction(trajfile_list, topfile_list=topfile_list, cutoffs=cutoffs, \n",
    "                        lipid=lipid, \n",
    "                        lipid_atoms=atoms,\n",
    "                        resi_offset=resi_offset,\n",
    "                        stride=stride,\n",
    "                        nprot=nprot, \n",
    "                        save_dir=save_dir)\n",
    "\n",
    "    #Compute contacts\n",
    "    li.collect_residue_contacts()\n",
    "\n",
    "    #Compute residue data (Duration, Occupancy, LipidCount, koff)\n",
    "    li.compute_residue_duration(residue_id=None)\n",
    "    li.compute_residue_occupancy(residue_id=None)\n",
    "    li.compute_residue_lipidcount(residue_id=None)\n",
    "    li.show_stats_per_traj(write_log=True, print_log=True)\n",
    "    li.compute_residue_koff(residue_id=None, plot_data=True, fig_close=True,\n",
    "                            fig_format=fig_format, num_cpus=num_cpus)\n",
    "\n",
    "    #Calculate binding sites data\n",
    "    li.compute_binding_nodes(threshold=binding_site_size, print_data=False)\n",
    "    if len(li.node_list) == 0:\n",
    "        print(\"*\"*50)\n",
    "        print(\"No binding site detected! Skip analysis for binding sites.\")\n",
    "        print(\"*\"*50)\n",
    "    else:\n",
    "        li.compute_site_duration(binding_site_id=None)\n",
    "        li.compute_site_occupancy(binding_site_id=None)\n",
    "        li.compute_site_lipidcount(binding_site_id=None)\n",
    "        li.compute_site_koff(binding_site_id=None, plot_data=True, fig_close=True,\n",
    "                            fig_format=fig_format, num_cpus=num_cpus)\n",
    "        pose_traj, pose_rmsd_data = li.analyze_bound_poses(binding_site_id=None, pose_format=save_pose_format,\n",
    "                                                        n_top_poses=n_top_poses, n_clusters=n_clusters,\n",
    "                                                        fig_format=fig_format, num_cpus=num_cpus)\n",
    "        # save pose trajectories\n",
    "        if save_pose_traj:\n",
    "            for bs_id in pose_traj.keys():\n",
    "                pose_traj[bs_id].save(\"{}/Bound_Poses_{}/Pose_traj_BSid{}.{}\".format(li.save_dir, li.lipid, bs_id,\n",
    "                                                                            save_pose_traj_format))\n",
    "        del pose_traj  # save memory space\n",
    "        surface_area_data = li.compute_surface_area(binding_site_id=None, radii=None, fig_format=fig_format)\n",
    "        data_dir = check_dir(li.save_dir, \"Dataset_{}\".format(li.lipid))\n",
    "        pose_rmsd_data.to_csv(\"{}/Pose_RMSD_data.csv\".format(data_dir), index=False, header=True)\n",
    "        surface_area_data.to_csv(\"{}/Surface_Area_data.csv\".format(data_dir), index=True, header=True)\n",
    "        li.write_site_info(sort_residue=\"Residence Time\")\n",
    "\n",
    "    #### write and save data\n",
    "    for item in [\"Dataset\", \"Duration\", \"Occupancy\", \"Lipid Count\", \"CorrCoef\"]:\n",
    "        li.save_data(item=item)\n",
    "    for item in [\"Residence Time\", \"Duration\", \"Occupancy\", \"Lipid Count\"]:\n",
    "        li.save_coordinate(item=item)\n",
    "    for item in [\"Residence Time\", \"Duration\", \"Occupancy\", \"Lipid Count\"]:\n",
    "        li.plot(item=item, fig_close=True, fig_format=fig_format)\n",
    "        li.plot_logo(item=item, fig_close=True, fig_format=fig_format)\n",
    "\n",
    "    li.dataset.to_csv(f\"{save_dir}/TRPV{trpv}_full_dataset.csv\")\n"
   ]
  }
 ],
 "metadata": {
  "kernelspec": {
   "display_name": "trpv_analysis",
   "language": "python",
   "name": "python3"
  },
  "language_info": {
   "codemirror_mode": {
    "name": "ipython",
    "version": 3
   },
   "file_extension": ".py",
   "mimetype": "text/x-python",
   "name": "python",
   "nbconvert_exporter": "python",
   "pygments_lexer": "ipython3",
   "version": "3.8.10"
  }
 },
 "nbformat": 4,
 "nbformat_minor": 2
}
